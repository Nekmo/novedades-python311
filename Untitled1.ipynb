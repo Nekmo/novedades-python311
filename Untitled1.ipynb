{
 "cells": [
  {
   "cell_type": "markdown",
   "id": "6d54f254",
   "metadata": {
    "slideshow": {
     "slide_type": "slide"
    },
    "pycharm": {
     "name": "#%% md\n"
    }
   },
   "source": [
    "# ¿Qué hay de nuevo en Python 3.11?"
   ]
  },
  {
   "cell_type": "markdown",
   "id": "358381b6",
   "metadata": {
    "slideshow": {
     "slide_type": "notes"
    },
    "pycharm": {
     "name": "#%% md\n"
    }
   },
   "source": [
    "Hola a todos. La salida de Python 3.11 está muy próxima, por lo que hemos venido a comentar las novedades más importantes de esta nueva versión. Pero ante todo, dejad que nos presentemos."
   ]
  },
  {
   "cell_type": "markdown",
   "id": "7c595b3e",
   "metadata": {
    "slideshow": {
     "slide_type": "slide"
    },
    "pycharm": {
     "name": "#%% md\n"
    }
   },
   "source": [
    "# Sobre nosotros\n",
    "* Juan José -- Github: Nekmo\n",
    "* Víctor Ramírez -- Github: Virako"
   ]
  },
  {
   "cell_type": "markdown",
   "id": "bf9da47f",
   "metadata": {
    "slideshow": {
     "slide_type": "notes"
    },
    "pycharm": {
     "name": "#%% md\n"
    }
   },
   "source": [
    "- Yo soy Juan José, conocido en redes como Nekmo.\n",
    "- Y yo Víctor Ramírez, conocido como Virako."
   ]
  },
  {
   "cell_type": "markdown",
   "id": "037d1b08",
   "metadata": {
    "slideshow": {
     "slide_type": "slide"
    },
    "pycharm": {
     "name": "#%% md\n"
    }
   },
   "source": [
    "# Tertulias Python en español\n",
    "https://lists.es.python.org/listinfo/general"
   ]
  },
  {
   "cell_type": "markdown",
   "id": "444c4ffc",
   "metadata": {
    "slideshow": {
     "slide_type": "notes"
    },
    "pycharm": {
     "name": "#%% md\n"
    }
   },
   "source": [
    "Los dos nos conocemos de las tertulias de Python España, las cuales celebramos cada martes para hablar sobre Python. Podéis apuntaros a la lista de correo general de Python España para más información. Y ahora, sin más dilación, vamos a hablar sobre Python."
   ]
  },
  {
   "cell_type": "markdown",
   "id": "b58fd29f",
   "metadata": {
    "slideshow": {
     "slide_type": "slide"
    },
    "pycharm": {
     "name": "#%% md\n"
    }
   },
   "source": [
    "# PEP 654: Exception Groups and except*"
   ]
  },
  {
   "cell_type": "markdown",
   "id": "6932e46d",
   "metadata": {
    "slideshow": {
     "slide_type": "notes"
    },
    "pycharm": {
     "name": "#%% md\n"
    }
   },
   "source": [
    "La primera de las novedades que tenemos son los exception groups y el nuevo except* con asterisco, con PEP 654."
   ]
  },
  {
   "cell_type": "code",
   "execution_count": null,
   "id": "ae6cec8b",
   "metadata": {
    "slideshow": {
     "slide_type": "subslide"
    },
    "pycharm": {
     "name": "#%%\n"
    }
   },
   "outputs": [],
   "source": [
    "class NameError(Exception):\n",
    "    pass\n",
    "\n",
    "\n",
    "def validate_name(value: str) -> None:\n",
    "    if not value.istitle():\n",
    "        raise NameError(\"El nombre debe empezar por mayúscula.\")\n",
    "\n",
    "    \n",
    "name = input()\n",
    "try:\n",
    "    validate_name(name)\n",
    "except NameError as err:\n",
    "    print(err)"
   ]
  },
  {
   "cell_type": "markdown",
   "id": "45389acb",
   "metadata": {
    "slideshow": {
     "slide_type": "notes"
    },
    "pycharm": {
     "name": "#%% md\n"
    }
   },
   "source": [
    "Aquí tenemos una excepción tradicional de Python, a lo cual lo normal es lanzar una única excepción y capturarla. En la función validamos la entrada, y si no valida se lanza una excepción, la cual se captura en el except y se muestra por pantalla."
   ]
  },
  {
   "cell_type": "code",
   "execution_count": null,
   "id": "519e7830",
   "metadata": {
    "slideshow": {
     "slide_type": "subslide"
    },
    "pycharm": {
     "name": "#%%\n"
    }
   },
   "outputs": [],
   "source": [
    "from typing import Iterable, Tuple, Dict, Callable\n",
    "\n",
    "\n",
    "class NumberError(Exception):\n",
    "    pass\n",
    "\n",
    "        \n",
    "def validate_age(value: str) -> None:\n",
    "    if not value.isdigit():\n",
    "        raise NumberError(\"La edad debe ser un valor numérico.\")\n",
    "        \n",
    "\n",
    "def read_inputs(input_validations: Iterable[Tuple[str, Callable]]) -> Dict[str, str]:\n",
    "    exceptions = []\n",
    "    values = {}\n",
    "    for input_name, input_validation in input_validations:\n",
    "        value = input(f\"Introduzca {input_name}: \")\n",
    "        try:\n",
    "            input_validation(input_name)\n",
    "        except Exception as err:\n",
    "            exceptions.append(value)\n",
    "        else:\n",
    "            values[input_name] = value    \n",
    "    if exceptions:\n",
    "        raise ExceptionGroup(\"errors message\", exceptions)\n",
    "    else:\n",
    "        # No hay errores, devolvemos los valores\n",
    "        return values\n",
    "        \n",
    "\n",
    "read_inputs([(\"nombre\", validate_name), (\"edad\", validate_age)])"
   ]
  },
  {
   "cell_type": "markdown",
   "id": "1c07d12d",
   "metadata": {
    "slideshow": {
     "slide_type": "notes"
    },
    "pycharm": {
     "name": "#%% md\n"
    }
   },
   "source": [
    "No obstante, en ocasiones necesitamos validar varios valores, por ejemplo porque nos vienen desde un JSON o por un formulario online. En tal caso no nos vale una sola excepción, para lo cual tenemos el ExceptionGroup. En este ejemplo leemos varios valores, nombre y edad. Los leeremos y luego los validamos. Si hay errores, lanzamos un ExceptionGroup con todos los errores. Si no devolvemos los valores."
   ]
  },
  {
   "cell_type": "code",
   "execution_count": null,
   "id": "f23bd436",
   "metadata": {
    "slideshow": {
     "slide_type": "subslide"
    },
    "pycharm": {
     "name": "#%%\n"
    }
   },
   "outputs": [],
   "source": [
    "try:\n",
    "    read_inputs()\n",
    "except* NameError as eg:\n",
    "    # Si hay errores NameError esto se llama\n",
    "    print(f\"Errores en el nombre: {eg.exceptions}\")\n",
    "except* NumberError as eg:\n",
    "    # Y si hay errores NumberError, esto también\n",
    "    print(f\"Errores numéricos: {eg.exceptions}\")"
   ]
  },
  {
   "cell_type": "markdown",
   "id": "df7bdd6a",
   "metadata": {
    "slideshow": {
     "slide_type": "notes"
    },
    "pycharm": {
     "name": "#%% md\n"
    }
   },
   "source": [
    "Hasta aquí todo parece normal. Sólo tenemos una nueva clase llamada ExceptionGroup para agrupar los errores. Lo divertido comienza usando el nuevo except con asterisco. Podemos utilizarlo para capturar múltiples exceptiones agrupadas diferenciadas por tipo. Y lo que es mejor, a diferencia de lo habital que es que el except no continúe ante la primera coincidencia, con el except con asterísco sí que sigue."
   ]
  },
  {
   "cell_type": "code",
   "execution_count": null,
   "id": "7fcb580e",
   "metadata": {
    "slideshow": {
     "slide_type": "subslide"
    },
    "pycharm": {
     "name": "#%%\n"
    }
   },
   "outputs": [],
   "source": [
    "raise ExceptionGroup(\"nested\",\n",
    "    [\n",
    "         ValueError(654),\n",
    "         ExceptionGroup(\"imports\",\n",
    "             [\n",
    "                 ImportError(\"no_such_module\"),\n",
    "                 ModuleNotFoundError(\"another_module\"),\n",
    "             ]\n",
    "         ),\n",
    "         TypeError(\"int\"),\n",
    "     ]\n",
    ")"
   ]
  },
  {
   "cell_type": "markdown",
   "id": "dacdb791",
   "metadata": {
    "slideshow": {
     "slide_type": "notes"
    },
    "pycharm": {
     "name": "#%% md\n"
    }
   },
   "source": [
    "Por si fuese poco, también podemos agrupar las exceptiones. Esto es especialmente útil en casos como un JSON, en que tenemos múltiples niveles. También es útil en ejecución asíncrona, en que varias funciones lanzan a su vez varias excepciones. Justamente algo similar al ExceptionGroup lo tenía Trio con el MultiError, aunque ahora lo tenemos de serie."
   ]
  },
  {
   "cell_type": "markdown",
   "id": "c3dc2cd1",
   "metadata": {
    "slideshow": {
     "slide_type": "slide"
    },
    "pycharm": {
     "name": "#%% md\n"
    }
   },
   "source": [
    "# PEP 678: Enriquecer excepciones con notas"
   ]
  },
  {
   "cell_type": "markdown",
   "id": "8bd5bd92",
   "metadata": {
    "slideshow": {
     "slide_type": "notes"
    },
    "pycharm": {
     "name": "#%% md\n"
    }
   },
   "source": [
    "Y seguimos con excepciones. El nuevo método PEP 678 permite añadir notas, aclaraciones, a las excepciones que se lanzan."
   ]
  },
  {
   "cell_type": "code",
   "execution_count": null,
   "id": "dd86c554",
   "metadata": {
    "slideshow": {
     "slide_type": "subslide"
    },
    "pycharm": {
     "name": "#%%\n"
    }
   },
   "outputs": [],
   "source": [
    "try:\n",
    "     raise TypeError('bad type')\n",
    "except Exception as e:\n",
    "     e.add_note('Add some information')\n",
    "     raise\n"
   ]
  },
  {
   "cell_type": "markdown",
   "id": "528ded27",
   "metadata": {
    "slideshow": {
     "slide_type": "notes"
    },
    "pycharm": {
     "name": "#%% md\n"
    }
   },
   "source": [
    "En este ejemplo se añade produce una excepción, se captura, se le añade una nota usando el nuevo método add_note, disponible en Exception, y se vuelve a lanzar ya con la nota."
   ]
  },
  {
   "cell_type": "code",
   "execution_count": null,
   "id": "02e52361",
   "metadata": {
    "slideshow": {
     "slide_type": "subslide"
    },
    "pycharm": {
     "name": "#%%\n"
    }
   },
   "outputs": [],
   "source": [
    "Traceback (most recent call last):\n",
    "  File \"<stdin>\", line 2, in <module>\n",
    "TypeError: bad type\n",
    "Add some information"
   ]
  },
  {
   "cell_type": "markdown",
   "id": "588b6f51",
   "metadata": {
    "slideshow": {
     "slide_type": "notes"
    },
    "pycharm": {
     "name": "#%% md\n"
    }
   },
   "source": [
    "Cuando se produce la excepción, la nota es mostrada. Así se simple."
   ]
  },
  {
   "cell_type": "code",
   "execution_count": null,
   "id": "c478e0da",
   "metadata": {
    "slideshow": {
     "slide_type": "subslide"
    },
    "pycharm": {
     "name": "#%%\n"
    }
   },
   "outputs": [],
   "source": [
    "+ Exception Group Traceback (most recent call last):\n",
    "|   File \"test.py\", line 4, in test\n",
    "|     def test(x):\n",
    "|\n",
    "|   File \"hypothesis/core.py\", line 1202, in wrapped_test\n",
    "|     raise the_error_hypothesis_found\n",
    "|     ^^^^^^^^^^^^^^^^^^^^^^^^^^^^^^^^\n",
    "| ExceptionGroup: Hypothesis found 2 distinct failures.\n",
    "+-+---------------- 1 ----------------\n",
    "    | Traceback (most recent call last):\n",
    "    |   File \"test.py\", line 6, in test\n",
    "    |     assert x > 0\n",
    "    |     ^^^^^^^^^^^^\n",
    "    | AssertionError: assert -1 > 0\n",
    "    |\n",
    "    | Falsifying example: test(\n",
    "    |     x=-1,\n",
    "    | )\n",
    "    +---------------- 2 ----------------\n",
    "    | Traceback (most recent call last):\n",
    "    |   File \"test.py\", line 5, in test\n",
    "    |     assert x < 0\n",
    "    |     ^^^^^^^^^^^^\n",
    "    | AssertionError: assert 0 < 0\n",
    "    |\n",
    "    | Falsifying example: test(\n",
    "    |     x=0,\n",
    "    | )\n",
    "    +------------------------------------\n"
   ]
  },
  {
   "cell_type": "markdown",
   "id": "311371b7",
   "metadata": {
    "slideshow": {
     "slide_type": "notes"
    },
    "pycharm": {
     "name": "#%% md\n"
    }
   },
   "source": [
    "Por supuesto, esto también puede utilizarse con los ExceptionGroup, de forma que añadimos información adicional sobre la parte del exception group en que ha sucedido."
   ]
  },
  {
   "cell_type": "markdown",
   "id": "bdac8bdf",
   "metadata": {
    "slideshow": {
     "slide_type": "slide"
    },
    "pycharm": {
     "name": "#%% md\n"
    }
   },
   "source": [
    "# PEP 657: Mejoras en las indicaciones de error en los tracebacks"
   ]
  },
  {
   "cell_type": "markdown",
   "id": "aff78d90",
   "metadata": {
    "slideshow": {
     "slide_type": "notes"
    },
    "pycharm": {
     "name": "#%% md\n"
    }
   },
   "source": [
    "Y seguimos con tracebacks de error. Vamos a ver las mejoras que se han hecho en los mensaje de traceback."
   ]
  },
  {
   "cell_type": "code",
   "execution_count": null,
   "id": "0d6f9640",
   "metadata": {
    "slideshow": {
     "slide_type": "subslide"
    },
    "pycharm": {
     "name": "#%%\n"
    }
   },
   "outputs": [],
   "source": [
    "Traceback (most recent call last):\n",
    "  File \"distance.py\", line 11, in <module>\n",
    "    print(manhattan_distance(p1, p2))\n",
    "          ^^^^^^^^^^^^^^^^^^^^^^^^^^\n",
    "  File \"distance.py\", line 6, in manhattan_distance\n",
    "    return abs(point_1.x - point_2.x) + abs(point_1.y - point_2.y)\n",
    "                           ^^^^^^^^^\n",
    "AttributeError: 'NoneType' object has no attribute 'x'"
   ]
  },
  {
   "cell_type": "markdown",
   "id": "3cefa4fa",
   "metadata": {
    "slideshow": {
     "slide_type": "notes"
    },
    "pycharm": {
     "name": "#%% md\n"
    }
   },
   "source": [
    "Hasta ahora en Python, como recordaréis lo habitual en un error como una variable que es None es que se indique la línea, pero con varias variables no sabes cuál es que es None. Ahora se indica claramente cuál es la que es None."
   ]
  },
  {
   "cell_type": "code",
   "execution_count": null,
   "id": "16923e2e",
   "metadata": {
    "slideshow": {
     "slide_type": "subslide"
    },
    "pycharm": {
     "name": "#%%\n"
    }
   },
   "outputs": [],
   "source": [
    "Traceback (most recent call last):\n",
    "  File \"query.py\", line 37, in <module>\n",
    "    magic_arithmetic('foo')\n",
    "  File \"query.py\", line 18, in magic_arithmetic\n",
    "    return add_counts(x) / 25\n",
    "           ^^^^^^^^^^^^^\n",
    "  File \"query.py\", line 24, in add_counts\n",
    "    return 25 + query_user(user1) + query_user(user2)\n",
    "                ^^^^^^^^^^^^^^^^^\n",
    "  File \"query.py\", line 32, in query_user\n",
    "    return 1 + query_count(db, response['a']['b']['c']['user'], retry=True)\n",
    "                               ~~~~~~~~~~~~~~~~~~^^^^^\n",
    "TypeError: 'NoneType' object is not subscriptable"
   ]
  },
  {
   "cell_type": "markdown",
   "id": "0a2476c7",
   "metadata": {
    "slideshow": {
     "slide_type": "notes"
    },
    "pycharm": {
     "name": "#%% md\n"
    }
   },
   "source": [
    "Esto es especialmente útil accediendo a diccionarios, en que a partir de cierta parte en un diccionario anidado es None. Ahora se indica exactamente a partir de dónde ocurre."
   ]
  },
  {
   "cell_type": "markdown",
   "id": "ac042d3b",
   "metadata": {
    "slideshow": {
     "slide_type": "slide"
    },
    "pycharm": {
     "name": "#%% md\n"
    }
   },
   "source": [
    "# PEP 680: tomllib"
   ]
  },
  {
   "cell_type": "markdown",
   "id": "948fb020",
   "metadata": {
    "slideshow": {
     "slide_type": "notes"
    },
    "pycharm": {
     "name": "#%% md\n"
    }
   },
   "source": [
    "Seguimos con un nuevo módulo añadido a la biblioteca estándar. Tomllib."
   ]
  },
  {
   "cell_type": "markdown",
   "id": "b5b9c523",
   "metadata": {
    "slideshow": {
     "slide_type": "subslide"
    },
    "pycharm": {
     "name": "#%% md\n"
    }
   },
   "source": [
    "```toml\n",
    "# This is a TOML document\n",
    "\n",
    "title = \"TOML Example\"\n",
    "\n",
    "[owner]\n",
    "name = \"Tom Preston-Werner\"\n",
    "dob = 1979-05-27T07:32:00-08:00\n",
    "\n",
    "[database]\n",
    "enabled = true\n",
    "ports = [ 8000, 8001, 8002 ]\n",
    "data = [ [\"delta\", \"phi\"], [3.14] ]\n",
    "temp_targets = { cpu = 79.5, case = 72.0 }\n",
    "\n",
    "[servers]\n",
    "\n",
    "[servers.alpha]\n",
    "ip = \"10.0.0.1\"\n",
    "role = \"frontend\"\n",
    "```"
   ]
  },
  {
   "cell_type": "markdown",
   "id": "96798dca",
   "metadata": {
    "slideshow": {
     "slide_type": "notes"
    },
    "pycharm": {
     "name": "#%% md\n"
    }
   },
   "source": [
    "Toml es un formato de archivo de configuración sencillo de entender y de editar por un humano, a diferencia de JSON. Solventa algunos de los problemas de Yaml como su falta de consistencia y ofrece más características que los ficheros ini en los que se basa."
   ]
  },
  {
   "cell_type": "code",
   "execution_count": null,
   "id": "65d69d1f",
   "metadata": {
    "slideshow": {
     "slide_type": "subslide"
    },
    "pycharm": {
     "name": "#%%\n"
    }
   },
   "outputs": [],
   "source": [
    "import tomllib\n",
    "\n",
    "\n",
    "with open(\"fichero.toml\") as f:\n",
    "    tomllib.load(f)"
   ]
  },
  {
   "cell_type": "markdown",
   "id": "8e3caa33",
   "metadata": {
    "slideshow": {
     "slide_type": "notes"
    },
    "pycharm": {
     "name": "#%% md\n"
    }
   },
   "source": [
    "El ejemplo para leer un fichero toml es muy sencillo, muy similar a como se hace con el módulo de json. No obstante, curiosamente no disponemos de un método de hacer un dump, por lo que no podemos escribir."
   ]
  },
  {
   "cell_type": "markdown",
   "id": "d0124da1",
   "metadata": {
    "slideshow": {
     "slide_type": "slide"
    },
    "pycharm": {
     "name": "#%% md\n"
    }
   },
   "source": [
    "# PEP 655: TypedDict Required/NotRequired"
   ]
  },
  {
   "cell_type": "markdown",
   "id": "0f1da3fe",
   "metadata": {
    "pycharm": {
     "name": "#%% md\n"
    },
    "slideshow": {
     "slide_type": "notes"
    }
   },
   "source": [
    "Los TypedDict son muy útiles para crearse diccionarios con tipado, pero hay una cosa  que se echaba muy en falta, y era los opcionales de verdad, ya que el Optional que había, lo que hacía era que si no lo definías, marcábamos como None el valor de dicha clave."
   ]
  },
  {
   "cell_type": "code",
   "execution_count": null,
   "id": "6ba1e978",
   "metadata": {
    "pycharm": {
     "name": "#%%\n"
    },
    "slideshow": {
     "slide_type": "subslide"
    }
   },
   "outputs": [],
   "source": [
    "from typing import NotRequired, Required, TypedDict\n",
    "\n",
    "\n",
    "class Person(TypedDict):\n",
    "    name: Required[str]\n",
    "    surname: str\n",
    "    # age: Optional[int]\n",
    "    age: NotRequired[int]\n",
    "\n",
    "person: Person = {\"name\": \"Juan\", \"surname\": \"Luna\"}"
   ]
  },
  {
   "cell_type": "code",
   "execution_count": null,
   "outputs": [],
   "source": [
    "No es necesario el required, pero ahí está porsi quieres ser explícito."
   ],
   "metadata": {
    "collapsed": false,
    "pycharm": {
     "name": "#%%\n"
    }
   }
  },
  {
   "cell_type": "markdown",
   "id": "e9468d88",
   "metadata": {
    "pycharm": {
     "name": "#%% md\n"
    },
    "slideshow": {
     "slide_type": "slide"
    }
   },
   "source": [
    "# PEP 673: Tipo Self"
   ]
  },
  {
   "cell_type": "markdown",
   "id": "eb139fc8",
   "metadata": {
    "pycharm": {
     "name": "#%% md\n"
    },
    "slideshow": {
     "slide_type": "notes"
    }
   },
   "source": [
    "Self nos sirve para añadir de forma sencilla la forma de anotar que un método devuelve una instancia de la clase, antes ya lo podíamos hacer con los genéricos, pero esta forma es más sencilla."
   ]
  },
  {
   "cell_type": "code",
   "execution_count": null,
   "id": "dd62a3d4",
   "metadata": {
    "pycharm": {
     "name": "#%%\n"
    },
    "slideshow": {
     "slide_type": "subslide"
    }
   },
   "outputs": [],
   "source": [
    "from typing import Self\n",
    "\n",
    "\n",
    "class Person:\n",
    "\n",
    "    def __init__(self, name: str, age: int):\n",
    "        self.name = name\n",
    "        self.age = age\n",
    "\n",
    "    @classmethod\n",
    "    def create(cls, name: str, age: int) -> Self:\n",
    "        return cls(name, age)\n",
    "\n",
    "    def set_name(self, name: str) -> Self:\n",
    "        self.name = name\n",
    "        return self\n",
    "\n",
    "    def set_age(self, age: int) -> Self:\n",
    "        self.age = age\n",
    "        return self\n",
    "\n",
    "    def __str__(self) -> str:\n",
    "        return f'{self.name}: {self.age}'\n",
    "\n",
    "person = Person('V', 32)\n",
    "person.set_name('J').set_age(9)"
   ]
  },
  {
   "cell_type": "markdown",
   "id": "acfd2bc9",
   "metadata": {
    "pycharm": {
     "name": "#%% md\n"
    },
    "slideshow": {
     "slide_type": "notes"
    }
   },
   "source": [
    "Me quiero parar y debatir aquí. En los ejemplos que hay en la PEP, veo un ejemplo como el siguiente, miremos\n",
    "los set y el encadenamiento."
   ]
  },
  {
   "cell_type": "markdown",
   "id": "e826432e",
   "metadata": {
    "pycharm": {
     "name": "#%% md\n"
    },
    "slideshow": {
     "slide_type": "slide"
    }
   },
   "source": [
    "# PEP 675: LiteralString"
   ]
  },
  {
   "cell_type": "markdown",
   "id": "0f21c33b",
   "metadata": {
    "pycharm": {
     "name": "#%% md\n"
    },
    "slideshow": {
     "slide_type": "notes"
    }
   },
   "source": [
    "LiteralString, aceptará cualquier cadena literal que no esté modificada por una entrada de usuario. Obligatoriamente tiene que estar escrita la cadena literalmente en el código."
   ]
  },
  {
   "cell_type": "code",
   "execution_count": null,
   "id": "868b6682",
   "metadata": {
    "slideshow": {
     "slide_type": "subslide"
    },
    "pycharm": {
     "name": "#%%\n"
    }
   },
   "outputs": [],
   "source": [
    "from typing import LiteralString\n",
    "\n",
    "\n",
    "def test_literal(data: LiteralString):\n",
    "    pass\n",
    "\n",
    "def test_invalid(data: str):\n",
    "    test_literal(f\"test {data}\")\n",
    "\n",
    "def test_valid():\n",
    "    data = \"example \"\n",
    "    data += \"valid\"  # esto funciona porque NO viene de fuera\n",
    "    data += input()  # ???\n",
    "    test_literal(data)"
   ]
  },
  {
   "cell_type": "markdown",
   "id": "361b7ff6",
   "metadata": {
    "slideshow": {
     "slide_type": "notes"
    },
    "pycharm": {
     "name": "#%% md\n"
    }
   },
   "source": [
    "Signo de ??? pregunta para la gente. https://github.com/python/mypy/issues/12554 . He intentado validar con mypy, pero todavía no tiene soporte. Yo al menos no puedo asegurar que funciona y que no."
   ]
  },
  {
   "cell_type": "markdown",
   "id": "7b1eb923",
   "metadata": {
    "slideshow": {
     "slide_type": "slide"
    },
    "pycharm": {
     "name": "#%% md\n"
    }
   },
   "source": [
    "# PEP 681: Data Class Transforms"
   ]
  },
  {
   "cell_type": "markdown",
   "id": "74919052",
   "metadata": {
    "slideshow": {
     "slide_type": "notes"
    },
    "pycharm": {
     "name": "#%% md\n"
    }
   },
   "source": [
    "Este PEP es interesante para los creadores de frameworks y bibliotecas, como pueden ser Django, Pydantic o SQLAlchemy."
   ]
  },
  {
   "cell_type": "code",
   "execution_count": null,
   "id": "93592ca3",
   "metadata": {
    "slideshow": {
     "slide_type": "subslide"
    },
    "pycharm": {
     "name": "#%%\n"
    }
   },
   "outputs": [],
   "source": [
    "# La clase ``ModelBase`` está definida en la biblioteca. \n",
    "@typing.dataclass_transform()\n",
    "class ModelBase: ...\n",
    "\n",
    "\n",
    "# La clase ``ModelBase`` puede ser usado para crear nuevos modelos,\n",
    "# similar a como se hace en estos frameworks.\n",
    "class CustomerModel(ModelBase):\n",
    "    id: int\n",
    "    name: str"
   ]
  },
  {
   "cell_type": "markdown",
   "id": "7e87f923",
   "metadata": {
    "slideshow": {
     "slide_type": "notes"
    },
    "pycharm": {
     "name": "#%% md\n"
    }
   },
   "source": [
    "Estas bibliotecas han creado sus propias clases para crear modelos, similares a los dataclass de Python. Ahora tienen una forma de definir un tipado para sus clases base. "
   ]
  },
  {
   "cell_type": "code",
   "execution_count": null,
   "id": "878917bc",
   "metadata": {
    "slideshow": {
     "slide_type": "subslide"
    },
    "pycharm": {
     "name": "#%%\n"
    }
   },
   "outputs": [],
   "source": [
    "def dataclass_transform(\n",
    "    *,\n",
    "    eq_default: bool = True,\n",
    "    order_default: bool = False,\n",
    "    kw_only_default: bool = False,\n",
    "    field_specifiers: tuple[type | Callable[..., Any], ...] = (),\n",
    "    **kwargs: Any,\n",
    ") -> Callable[[_T], _T]: ...\n"
   ]
  },
  {
   "cell_type": "markdown",
   "id": "e4b71af6",
   "metadata": {
    "slideshow": {
     "slide_type": "notes"
    },
    "pycharm": {
     "name": "#%% md\n"
    }
   },
   "source": [
    "Por defecto el nuevo tipo se comportará como un dataclass al ser identificado como tipo, aunque usando la función dataclass_transform pueden cambiarse las opciones por defecto hacer la transformación. En conclusión, este tipado es útil si se está creando un modelo de clases similares a los dataclass. "
   ]
  },
  {
   "cell_type": "markdown",
   "id": "2106ff7d",
   "metadata": {
    "slideshow": {
     "slide_type": "slide"
    },
    "pycharm": {
     "name": "#%% md\n"
    }
   },
   "source": [
    "# ¿Qué otras novedades hay?"
   ]
  },
  {
   "cell_type": "markdown",
   "id": "9f4267ef",
   "metadata": {
    "slideshow": {
     "slide_type": "notes"
    },
    "pycharm": {
     "name": "#%% md\n"
    }
   },
   "source": [
    "¿Qué otras novedades hay? No tenemos tiempo para ver todo lo que trae esta nueva versión de Python, pero aquí una lista de algunas de las cosas que se nos han quedado por el tintero. "
   ]
  },
  {
   "cell_type": "markdown",
   "id": "ccfa7fe1",
   "metadata": {
    "slideshow": {
     "slide_type": "subslide"
    },
    "pycharm": {
     "name": "#%% md\n"
    }
   },
   "source": [
    "* Nuevo argumento -P en la línea de comandos y variable de entorno PYTHONSAFEPATH para evitar ejecutar código inseguro. \n",
    "* PEP 646: Variadic generics.\n",
    "* PEP 594: Eliminar módulos muertos de la librería estándar (deprecated, a eliminar en 3.13).\n",
    "* PEP 624: Eliminadas las APIs de codificación de Py_UNICODE.\n",
    "* PEP 670: Convertir macros a funciones en la API en C de Python.\n",
    "* ¡Y es más rápido! (10-60% respecto Python 3.10)"
   ]
  },
  {
   "cell_type": "markdown",
   "id": "56ccdb01",
   "metadata": {
    "slideshow": {
     "slide_type": "notes"
    },
    "pycharm": {
     "name": "#%% md\n"
    }
   },
   "source": [
    "Tenemos... (leer puntos). Os recomiendo acudir a la charla de mañana de Pablo Galindo, uno de los core developers de Python, que hablará más sobre este tema. "
   ]
  },
  {
   "cell_type": "markdown",
   "id": "827a507a",
   "metadata": {
    "slideshow": {
     "slide_type": "subslide"
    },
    "pycharm": {
     "name": "#%% md\n"
    }
   },
   "source": [
    "# https://docs.python.org/3.11/whatsnew/3.11.html"
   ]
  },
  {
   "cell_type": "markdown",
   "id": "b94d817e",
   "metadata": {
    "slideshow": {
     "slide_type": "notes"
    },
    "pycharm": {
     "name": "#%% md\n"
    }
   },
   "source": [
    "En la documentación oficial tenéis el detalle de todas estas novedades."
   ]
  },
  {
   "cell_type": "markdown",
   "id": "63d0cd3b",
   "metadata": {
    "slideshow": {
     "slide_type": "slide"
    },
    "pycharm": {
     "name": "#%% md\n"
    }
   },
   "source": [
    "# ¿Cómo puedo probarlo?"
   ]
  },
  {
   "cell_type": "markdown",
   "id": "e71f709f",
   "metadata": {
    "slideshow": {
     "slide_type": "notes"
    },
    "pycharm": {
     "name": "#%% md\n"
    }
   },
   "source": [
    "¿Cómo puedo probarlo?"
   ]
  },
  {
   "cell_type": "markdown",
   "id": "1c523d2c",
   "metadata": {
    "slideshow": {
     "slide_type": "subslide"
    },
    "pycharm": {
     "name": "#%% md\n"
    }
   },
   "source": [
    "* Esperar a la fecha definitiva de salida: 24 de octubre de 2022.\n",
    "* ... o, compilar desde los fuente la release candidate 2."
   ]
  },
  {
   "cell_type": "markdown",
   "id": "d5da7a04",
   "metadata": {
    "slideshow": {
     "slide_type": "notes"
    },
    "pycharm": {
     "name": "#%% md\n"
    }
   },
   "source": [
    "Podéis esperar a la fecha definitiva de salida, que es el 24 de este mes... O compilar desde los fuentes. La versión actual es la release candidate 2, de la cual no debería haber ningún cambio con la versión definitiva, por lo que os animado a probarla desde hoy."
   ]
  },
  {
   "cell_type": "markdown",
   "id": "59e85d09",
   "metadata": {
    "slideshow": {
     "slide_type": "subslide"
    },
    "pycharm": {
     "name": "#%% md\n"
    }
   },
   "source": [
    "# https://www.build-python-from-source.com/"
   ]
  },
  {
   "cell_type": "markdown",
   "id": "9137c34f",
   "metadata": {
    "slideshow": {
     "slide_type": "notes"
    },
    "pycharm": {
     "name": "#%% md\n"
    }
   },
   "source": [
    "En esta web disponéis de una ayuda sobre cómo compilar Python desde el código fuente. No hace falta tener importantes conocimientos técnicos para poder hacerlo."
   ]
  },
  {
   "cell_type": "markdown",
   "id": "723a782b",
   "metadata": {
    "slideshow": {
     "slide_type": "slide"
    },
    "pycharm": {
     "name": "#%% md\n"
    }
   },
   "source": [
    "# ¡Muchas gracias a todos los que hacéis posible Python 3.11!"
   ]
  },
  {
   "cell_type": "markdown",
   "id": "dbfdf5dd",
   "metadata": {
    "slideshow": {
     "slide_type": "notes"
    },
    "pycharm": {
     "name": "#%% md\n"
    }
   },
   "source": [
    "Ante todo, agradecer a todos los que hacéis posible Python posible. También vosotros podéis ayudar, no sólo desarrollando. Probando las versiones antes de su salida hacéis posible detectar fallos lo antes posible. Probadlo con vuestras bibliotecas y dadle soporte."
   ]
  },
  {
   "cell_type": "markdown",
   "id": "b5093585",
   "metadata": {
    "slideshow": {
     "slide_type": "slide"
    },
    "pycharm": {
     "name": "#%% md\n"
    }
   },
   "source": [
    "# ¡Muchas gracias!"
   ]
  },
  {
   "cell_type": "markdown",
   "id": "f8475bdf",
   "metadata": {
    "slideshow": {
     "slide_type": "notes"
    },
    "pycharm": {
     "name": "#%% md\n"
    }
   },
   "source": [
    "Hasta aquí llega la charla. Os agradecemos por venir, y esperamos que os haya sido de ayuda."
   ]
  },
  {
   "cell_type": "markdown",
   "id": "9ddb7eaa",
   "metadata": {
    "slideshow": {
     "slide_type": "slide"
    },
    "pycharm": {
     "name": "#%% md\n"
    }
   },
   "source": [
    "# Tertulias Python\n",
    "https://lists.es.python.org/listinfo/general"
   ]
  },
  {
   "cell_type": "markdown",
   "id": "c98488db",
   "metadata": {
    "slideshow": {
     "slide_type": "notes"
    },
    "pycharm": {
     "name": "#%% md\n"
    }
   },
   "source": [
    "Recordaros que podéis discutir sobre Python 3.11 en las tertulias que realizamos los martes. Hablamos sobre estas novedades del lenguaje y muchas más para estar al día de todo lo nuevo del lenguaje."
   ]
  }
 ],
 "metadata": {
  "celltoolbar": "Slideshow",
  "kernelspec": {
   "display_name": "Python 3 (ipykernel)",
   "language": "python",
   "name": "python3"
  },
  "language_info": {
   "codemirror_mode": {
    "name": "ipython",
    "version": 3
   },
   "file_extension": ".py",
   "mimetype": "text/x-python",
   "name": "python",
   "nbconvert_exporter": "python",
   "pygments_lexer": "ipython3",
   "version": "3.11.0rc2"
  }
 },
 "nbformat": 4,
 "nbformat_minor": 5
}